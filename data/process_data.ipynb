{
 "cells": [
  {
   "cell_type": "code",
   "execution_count": 1,
   "id": "e293efad",
   "metadata": {},
   "outputs": [
    {
     "name": "stderr",
     "output_type": "stream",
     "text": [
      "/home/phucpx/miniconda3/envs/phucpx/lib/python3.7/site-packages/ipykernel_launcher.py:3: TqdmExperimentalWarning: Using `tqdm.autonotebook.tqdm` in notebook mode. Use `tqdm.tqdm` instead to force console mode (e.g. in jupyter console)\n",
      "  This is separate from the ipykernel package so we can avoid doing imports until\n"
     ]
    }
   ],
   "source": [
    "import json\n",
    "import pandas as pd\n",
    "from tqdm.autonotebook import tqdm"
   ]
  },
  {
   "cell_type": "code",
   "execution_count": 2,
   "id": "332adbb3",
   "metadata": {},
   "outputs": [],
   "source": [
    "def get_sub(text):\n",
    "    sentences = text.split(' . ')\n",
    "    \n",
    "    tmp1 = ' . '.join(sentences[: -1])\n",
    "    tmp1 = ' '.join(tmp1.split()[: 9_000])\n",
    "    \n",
    "    tmp2 = sentences[-1]\n",
    "    \n",
    "    return tmp1 + ' . ' + tmp2"
   ]
  },
  {
   "cell_type": "code",
   "execution_count": 4,
   "id": "f0423f07",
   "metadata": {},
   "outputs": [
    {
     "data": {
      "application/json": {
       "ascii": false,
       "bar_format": null,
       "colour": null,
       "elapsed": 0.013480186462402344,
       "initial": 0,
       "n": 0,
       "ncols": null,
       "nrows": 53,
       "postfix": null,
       "prefix": "",
       "rate": null,
       "total": null,
       "unit": "it",
       "unit_divisor": 1000,
       "unit_scale": false
      },
      "application/vnd.jupyter.widget-view+json": {
       "model_id": "28b61f9064924d11b3c2e5bbb1108eb4",
       "version_major": 2,
       "version_minor": 0
      },
      "text/plain": [
       "0it [00:00, ?it/s]"
      ]
     },
     "metadata": {},
     "output_type": "display_data"
    },
    {
     "data": {
      "application/json": {
       "ascii": false,
       "bar_format": null,
       "colour": null,
       "elapsed": 0.012008428573608398,
       "initial": 0,
       "n": 0,
       "ncols": null,
       "nrows": 53,
       "postfix": null,
       "prefix": "",
       "rate": null,
       "total": null,
       "unit": "it",
       "unit_divisor": 1000,
       "unit_scale": false
      },
      "application/vnd.jupyter.widget-view+json": {
       "model_id": "7bc3b149d95b446db3689708beca1a27",
       "version_major": 2,
       "version_minor": 0
      },
      "text/plain": [
       "0it [00:00, ?it/s]"
      ]
     },
     "metadata": {},
     "output_type": "display_data"
    },
    {
     "data": {
      "text/plain": [
       "(24773, 1376)"
      ]
     },
     "execution_count": 4,
     "metadata": {},
     "output_type": "execute_result"
    }
   ],
   "source": [
    "plos_train = []\n",
    "plos_val = []\n",
    "\n",
    "with open('./raw/train/PLOS_train.jsonl', encoding='utf-8') as f:\n",
    "    for line in tqdm(f):\n",
    "        tmp = json.loads(line)\n",
    "        tmp['article'] = tmp['article'].replace(\"&nbsp\", \"\").lower()\n",
    "        tmp['lay_summary'] = tmp['lay_summary'].replace(\"&nbsp\", \"\").lower()\n",
    "        tmp['article'] = get_sub(tmp['article'])\n",
    "        plos_train.append(tmp)\n",
    "        \n",
    "with open('./raw/val/PLOS_val.jsonl', encoding='utf-8') as f:\n",
    "    for line in tqdm(f):\n",
    "        tmp = json.loads(line)\n",
    "        tmp['article'] = tmp['article'].replace(\"&nbsp\", \"\").lower()\n",
    "        tmp['lay_summary'] = tmp['lay_summary'].replace(\"&nbsp\", \"\").lower()\n",
    "        tmp['article'] = get_sub(tmp['article'])\n",
    "        plos_val.append(tmp)\n",
    "        \n",
    "len(plos_train), len(plos_val)"
   ]
  },
  {
   "cell_type": "code",
   "execution_count": 5,
   "id": "30ff611b",
   "metadata": {},
   "outputs": [],
   "source": [
    "df_train_plos = pd.DataFrame.from_dict(plos_train)\n",
    "\n",
    "df_train_plos = df_train_plos[['article', 'lay_summary']]\n",
    "\n",
    "df_train_plos.to_csv('./PLOS/train.csv', encoding='utf-8', index=False)\n",
    "df_train_plos.to_pickle('./PLOS/train.pkl')\n",
    "\n",
    "\n",
    "df_val_plos = pd.DataFrame.from_dict(plos_val)\n",
    "\n",
    "df_val_plos = df_val_plos[['article', 'lay_summary']]\n",
    "\n",
    "df_val_plos.to_csv('./PLOS/val.csv', encoding='utf-8', index=False)\n",
    "df_val_plos.to_pickle('./PLOS/val.pkl')"
   ]
  },
  {
   "cell_type": "code",
   "execution_count": 6,
   "id": "8be889b0",
   "metadata": {},
   "outputs": [
    {
     "data": {
      "application/json": {
       "ascii": false,
       "bar_format": null,
       "colour": null,
       "elapsed": 0.012586593627929688,
       "initial": 0,
       "n": 0,
       "ncols": null,
       "nrows": 53,
       "postfix": null,
       "prefix": "",
       "rate": null,
       "total": null,
       "unit": "it",
       "unit_divisor": 1000,
       "unit_scale": false
      },
      "application/vnd.jupyter.widget-view+json": {
       "model_id": "6ae11cf173644057ad8576a451fa2213",
       "version_major": 2,
       "version_minor": 0
      },
      "text/plain": [
       "0it [00:00, ?it/s]"
      ]
     },
     "metadata": {},
     "output_type": "display_data"
    },
    {
     "data": {
      "application/json": {
       "ascii": false,
       "bar_format": null,
       "colour": null,
       "elapsed": 0.011447906494140625,
       "initial": 0,
       "n": 0,
       "ncols": null,
       "nrows": 53,
       "postfix": null,
       "prefix": "",
       "rate": null,
       "total": null,
       "unit": "it",
       "unit_divisor": 1000,
       "unit_scale": false
      },
      "application/vnd.jupyter.widget-view+json": {
       "model_id": "2b6c73030a774588a98bccb10abc4514",
       "version_major": 2,
       "version_minor": 0
      },
      "text/plain": [
       "0it [00:00, ?it/s]"
      ]
     },
     "metadata": {},
     "output_type": "display_data"
    },
    {
     "data": {
      "text/plain": [
       "(4346, 241)"
      ]
     },
     "execution_count": 6,
     "metadata": {},
     "output_type": "execute_result"
    }
   ],
   "source": [
    "elife_train = []\n",
    "elife_val = []\n",
    "\n",
    "with open('./raw/train/eLife_train.jsonl', encoding='utf-8') as f:\n",
    "    for line in tqdm(f):\n",
    "        tmp = json.loads(line)\n",
    "        tmp['article'] = tmp['article'].replace(\"&nbsp\", \"\").lower()\n",
    "        tmp['lay_summary'] = tmp['lay_summary'].replace(\"&nbsp\", \"\").lower()\n",
    "        tmp['article'] = get_sub(tmp['article'])\n",
    "        elife_train.append(tmp)\n",
    "        \n",
    "with open('./raw/val/eLife_val.jsonl', encoding='utf-8') as f:\n",
    "    for line in tqdm(f):\n",
    "        tmp = json.loads(line)\n",
    "        tmp['article'] = tmp['article'].replace(\"&nbsp\", \"\").lower()\n",
    "        tmp['lay_summary'] = tmp['lay_summary'].replace(\"&nbsp\", \"\").lower()\n",
    "        tmp['article'] = get_sub(tmp['article'])\n",
    "        elife_val.append(tmp)\n",
    "        \n",
    "len(elife_train), len(elife_val)"
   ]
  },
  {
   "cell_type": "code",
   "execution_count": 7,
   "id": "aaf86443",
   "metadata": {},
   "outputs": [],
   "source": [
    "df_train_elife = pd.DataFrame.from_dict(elife_train)\n",
    "\n",
    "df_train_elife = df_train_plos[['article', 'lay_summary']]\n",
    "\n",
    "df_train_elife.to_csv('./eLife/train.csv', encoding='utf-8', index=False)\n",
    "df_train_elife.to_pickle('./eLife/train.pkl')\n",
    "\n",
    "\n",
    "df_val_elife = pd.DataFrame.from_dict(elife_val)\n",
    "\n",
    "df_val_elife = df_val_elife[['article', 'lay_summary']]\n",
    "\n",
    "df_val_elife.to_csv('./eLife/val.csv', encoding='utf-8', index=False)\n",
    "df_val_elife.to_pickle('./eLife/val.pkl')"
   ]
  },
  {
   "cell_type": "code",
   "execution_count": 8,
   "id": "14d8861b",
   "metadata": {},
   "outputs": [
    {
     "data": {
      "text/html": [
       "<div>\n",
       "<style scoped>\n",
       "    .dataframe tbody tr th:only-of-type {\n",
       "        vertical-align: middle;\n",
       "    }\n",
       "\n",
       "    .dataframe tbody tr th {\n",
       "        vertical-align: top;\n",
       "    }\n",
       "\n",
       "    .dataframe thead th {\n",
       "        text-align: right;\n",
       "    }\n",
       "</style>\n",
       "<table border=\"1\" class=\"dataframe\">\n",
       "  <thead>\n",
       "    <tr style=\"text-align: right;\">\n",
       "      <th></th>\n",
       "      <th>article</th>\n",
       "      <th>lay_summary</th>\n",
       "    </tr>\n",
       "  </thead>\n",
       "  <tbody>\n",
       "    <tr>\n",
       "      <th>0</th>\n",
       "      <td>cell-fate reprograming is at the heart of deve...</td>\n",
       "      <td>the dna in genes encodes the basic information...</td>\n",
       "    </tr>\n",
       "    <tr>\n",
       "      <th>1</th>\n",
       "      <td>klebsiella pneumoniae is a respiratory , blood...</td>\n",
       "      <td>klebsiella pneumoniae is a type of bacteria th...</td>\n",
       "    </tr>\n",
       "    <tr>\n",
       "      <th>2</th>\n",
       "      <td>plasmodium vivax relapse infections occur foll...</td>\n",
       "      <td>malaria is one of the world's most deadly infe...</td>\n",
       "    </tr>\n",
       "    <tr>\n",
       "      <th>3</th>\n",
       "      <td>when 2 mha of amazonian forests are disturbed ...</td>\n",
       "      <td>the amazon rainforest in south america is the ...</td>\n",
       "    </tr>\n",
       "    <tr>\n",
       "      <th>4</th>\n",
       "      <td>neurosphere formation is commonly used as a su...</td>\n",
       "      <td>neurons that arise in the adult nervous system...</td>\n",
       "    </tr>\n",
       "  </tbody>\n",
       "</table>\n",
       "</div>"
      ],
      "text/plain": [
       "                                             article  \\\n",
       "0  cell-fate reprograming is at the heart of deve...   \n",
       "1  klebsiella pneumoniae is a respiratory , blood...   \n",
       "2  plasmodium vivax relapse infections occur foll...   \n",
       "3  when 2 mha of amazonian forests are disturbed ...   \n",
       "4  neurosphere formation is commonly used as a su...   \n",
       "\n",
       "                                         lay_summary  \n",
       "0  the dna in genes encodes the basic information...  \n",
       "1  klebsiella pneumoniae is a type of bacteria th...  \n",
       "2  malaria is one of the world's most deadly infe...  \n",
       "3  the amazon rainforest in south america is the ...  \n",
       "4  neurons that arise in the adult nervous system...  "
      ]
     },
     "execution_count": 8,
     "metadata": {},
     "output_type": "execute_result"
    }
   ],
   "source": [
    "df_val_elife.head(5)"
   ]
  },
  {
   "cell_type": "code",
   "execution_count": null,
   "id": "3b1c20b6",
   "metadata": {},
   "outputs": [],
   "source": []
  }
 ],
 "metadata": {
  "kernelspec": {
   "display_name": "phucpx",
   "language": "python",
   "name": "phucpx"
  },
  "language_info": {
   "codemirror_mode": {
    "name": "ipython",
    "version": 3
   },
   "file_extension": ".py",
   "mimetype": "text/x-python",
   "name": "python",
   "nbconvert_exporter": "python",
   "pygments_lexer": "ipython3",
   "version": "3.7.0"
  }
 },
 "nbformat": 4,
 "nbformat_minor": 5
}
