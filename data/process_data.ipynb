{
 "cells": [
  {
   "cell_type": "code",
   "execution_count": 1,
   "id": "e293efad",
   "metadata": {},
   "outputs": [
    {
     "name": "stderr",
     "output_type": "stream",
     "text": [
      "/home/phucpx/miniconda3/envs/phucpx/lib/python3.7/site-packages/ipykernel_launcher.py:5: TqdmExperimentalWarning: Using `tqdm.autonotebook.tqdm` in notebook mode. Use `tqdm.tqdm` instead to force console mode (e.g. in jupyter console)\n",
      "  \"\"\"\n"
     ]
    }
   ],
   "source": [
    "import os\n",
    "import json\n",
    "import random\n",
    "import pandas as pd\n",
    "from tqdm.autonotebook import tqdm"
   ]
  },
  {
   "cell_type": "code",
   "execution_count": 2,
   "id": "332adbb3",
   "metadata": {},
   "outputs": [],
   "source": [
    "def get_sub(text):\n",
    "    sentences = text.split(' . ')\n",
    "    \n",
    "    tmp1 = ' . '.join(sentences[: -1])\n",
    "    tmp1 = ' '.join(tmp1.split()[: 12_000])\n",
    "    \n",
    "    tmp2 = sentences[-1]\n",
    "    \n",
    "    return tmp1 + ' . ' + tmp2"
   ]
  },
  {
   "cell_type": "code",
   "execution_count": 5,
   "id": "f0423f07",
   "metadata": {},
   "outputs": [
    {
     "data": {
      "application/vnd.jupyter.widget-view+json": {
       "model_id": "08b9653687904a50a26ac7afa14b0aa2",
       "version_major": 2,
       "version_minor": 0
      },
      "text/plain": [
       "0it [00:00, ?it/s]"
      ]
     },
     "metadata": {},
     "output_type": "display_data"
    },
    {
     "data": {
      "application/vnd.jupyter.widget-view+json": {
       "model_id": "ee14b350f0544d8d8aee136f6f287b83",
       "version_major": 2,
       "version_minor": 0
      },
      "text/plain": [
       "0it [00:00, ?it/s]"
      ]
     },
     "metadata": {},
     "output_type": "display_data"
    },
    {
     "data": {
      "text/plain": [
       "(24773, 1376)"
      ]
     },
     "execution_count": 5,
     "metadata": {},
     "output_type": "execute_result"
    }
   ],
   "source": [
    "plos_train = []\n",
    "plos_val = []\n",
    "\n",
    "with open('./raw/train/PLOS_train.jsonl', encoding='utf-8') as f:\n",
    "    for line in tqdm(f):\n",
    "        tmp = json.loads(line)\n",
    "        tmp['article'] = tmp['article'].replace(\"&nbsp\", \"\").replace(\"\\n\", \" \").lower()\n",
    "        tmp['lay_summary'] = tmp['lay_summary'].replace(\"&nbsp\", \"\").replace(\"\\n\", \" \").lower()\n",
    "        tmp['article'] = get_sub(tmp['article'])\n",
    "        plos_train.append(tmp)\n",
    "        \n",
    "with open('./raw/val/PLOS_val.jsonl', encoding='utf-8') as f:\n",
    "    for line in tqdm(f):\n",
    "        tmp = json.loads(line)\n",
    "        tmp['article'] = tmp['article'].replace(\"&nbsp\", \"\").lower()\n",
    "        tmp['lay_summary'] = tmp['lay_summary'].replace(\"&nbsp\", \"\").lower()\n",
    "        tmp['article'] = get_sub(tmp['article'])\n",
    "        plos_val.append(tmp)\n",
    "        \n",
    "len(plos_train), len(plos_val)"
   ]
  },
  {
   "cell_type": "code",
   "execution_count": 14,
   "id": "30ff611b",
   "metadata": {},
   "outputs": [],
   "source": [
    "df_train_plos = pd.DataFrame.from_dict(plos_train)\n",
    "\n",
    "df_train_plos = df_train_plos[['article', 'lay_summary']]\n",
    "\n",
    "df_train_plos.to_csv('./PLOS2/train.csv', encoding='utf-8', index=False)\n",
    "df_train_plos.to_pickle('./PLOS2/train.pkl')\n",
    "\n",
    "\n",
    "df_val_plos = pd.DataFrame.from_dict(plos_val)\n",
    "\n",
    "df_val_plos = df_val_plos[['article', 'lay_summary']]\n",
    "\n",
    "df_val_plos.to_csv('./PLOS2/val.csv', encoding='utf-8', index=False)\n",
    "df_val_plos.to_pickle('./PLOS2/val.pkl')"
   ]
  },
  {
   "cell_type": "code",
   "execution_count": 15,
   "id": "d7f46014",
   "metadata": {},
   "outputs": [
    {
     "data": {
      "text/html": [
       "<div>\n",
       "<style scoped>\n",
       "    .dataframe tbody tr th:only-of-type {\n",
       "        vertical-align: middle;\n",
       "    }\n",
       "\n",
       "    .dataframe tbody tr th {\n",
       "        vertical-align: top;\n",
       "    }\n",
       "\n",
       "    .dataframe thead th {\n",
       "        text-align: right;\n",
       "    }\n",
       "</style>\n",
       "<table border=\"1\" class=\"dataframe\">\n",
       "  <thead>\n",
       "    <tr style=\"text-align: right;\">\n",
       "      <th></th>\n",
       "      <th>article</th>\n",
       "      <th>lay_summary</th>\n",
       "    </tr>\n",
       "  </thead>\n",
       "  <tbody>\n",
       "    <tr>\n",
       "      <th>0</th>\n",
       "      <td>kidney function depends on the nephron , which...</td>\n",
       "      <td>in the kidney , structures known as nephrons a...</td>\n",
       "    </tr>\n",
       "    <tr>\n",
       "      <th>1</th>\n",
       "      <td>white-nose syndrome is one of the most lethal ...</td>\n",
       "      <td>many species of bats in north america have bee...</td>\n",
       "    </tr>\n",
       "    <tr>\n",
       "      <th>2</th>\n",
       "      <td>sustainable dengue intervention requires the p...</td>\n",
       "      <td>the burden of dengue has been increasing over ...</td>\n",
       "    </tr>\n",
       "    <tr>\n",
       "      <th>3</th>\n",
       "      <td>despite the central role of estrogen exposure ...</td>\n",
       "      <td>estrogen exposure is the most important risk f...</td>\n",
       "    </tr>\n",
       "    <tr>\n",
       "      <th>4</th>\n",
       "      <td>macrophage migration inhibitory factor ( mif )...</td>\n",
       "      <td>melioidosis is a severe tropical infection cau...</td>\n",
       "    </tr>\n",
       "  </tbody>\n",
       "</table>\n",
       "</div>"
      ],
      "text/plain": [
       "                                             article  \\\n",
       "0  kidney function depends on the nephron , which...   \n",
       "1  white-nose syndrome is one of the most lethal ...   \n",
       "2  sustainable dengue intervention requires the p...   \n",
       "3  despite the central role of estrogen exposure ...   \n",
       "4  macrophage migration inhibitory factor ( mif )...   \n",
       "\n",
       "                                         lay_summary  \n",
       "0  in the kidney , structures known as nephrons a...  \n",
       "1  many species of bats in north america have bee...  \n",
       "2  the burden of dengue has been increasing over ...  \n",
       "3  estrogen exposure is the most important risk f...  \n",
       "4  melioidosis is a severe tropical infection cau...  "
      ]
     },
     "execution_count": 15,
     "metadata": {},
     "output_type": "execute_result"
    }
   ],
   "source": [
    "df_train_plos.head(5)"
   ]
  },
  {
   "cell_type": "code",
   "execution_count": 6,
   "id": "8be889b0",
   "metadata": {},
   "outputs": [
    {
     "data": {
      "application/vnd.jupyter.widget-view+json": {
       "model_id": "1203ea1b6dfa4634aea01c054ca69e97",
       "version_major": 2,
       "version_minor": 0
      },
      "text/plain": [
       "0it [00:00, ?it/s]"
      ]
     },
     "metadata": {},
     "output_type": "display_data"
    },
    {
     "data": {
      "application/vnd.jupyter.widget-view+json": {
       "model_id": "dcc9ad52dc7143508c417bc23249b3e6",
       "version_major": 2,
       "version_minor": 0
      },
      "text/plain": [
       "0it [00:00, ?it/s]"
      ]
     },
     "metadata": {},
     "output_type": "display_data"
    },
    {
     "data": {
      "text/plain": [
       "(4346, 241)"
      ]
     },
     "execution_count": 6,
     "metadata": {},
     "output_type": "execute_result"
    }
   ],
   "source": [
    "elife_train = []\n",
    "elife_val = []\n",
    "\n",
    "with open('./raw/train/eLife_train.jsonl', encoding='utf-8') as f:\n",
    "    for line in tqdm(f):\n",
    "        tmp = json.loads(line)\n",
    "        tmp['article'] = tmp['article'].replace(\"&nbsp\", \"\").lower()\n",
    "        tmp['lay_summary'] = tmp['lay_summary'].replace(\"&nbsp\", \"\").lower()\n",
    "        tmp['article'] = get_sub(tmp['article'])\n",
    "        elife_train.append(tmp)\n",
    "        \n",
    "with open('./raw/val/eLife_val.jsonl', encoding='utf-8') as f:\n",
    "    for line in tqdm(f):\n",
    "        tmp = json.loads(line)\n",
    "        tmp['article'] = tmp['article'].replace(\"&nbsp\", \"\").lower()\n",
    "        tmp['lay_summary'] = tmp['lay_summary'].replace(\"&nbsp\", \"\").lower()\n",
    "        tmp['article'] = get_sub(tmp['article'])\n",
    "        elife_val.append(tmp)\n",
    "        \n",
    "len(elife_train), len(elife_val)"
   ]
  },
  {
   "cell_type": "code",
   "execution_count": 7,
   "id": "76ed16ad",
   "metadata": {},
   "outputs": [
    {
     "data": {
      "text/plain": [
       "29119"
      ]
     },
     "execution_count": 7,
     "metadata": {},
     "output_type": "execute_result"
    }
   ],
   "source": [
    "elife_train = [*elife_train, *plos_train]\n",
    "\n",
    "len(elife_train)"
   ]
  },
  {
   "cell_type": "code",
   "execution_count": 8,
   "id": "aaf86443",
   "metadata": {},
   "outputs": [
    {
     "name": "stdout",
     "output_type": "stream",
     "text": [
      "29119\n",
      "241\n"
     ]
    }
   ],
   "source": [
    "df_train_elife = pd.DataFrame.from_dict(elife_train)\n",
    "\n",
    "df_train_elife = df_train_elife[['article', 'lay_summary']]\n",
    "\n",
    "print(len(df_train_elife))\n",
    "\n",
    "df_train_elife.to_csv('./eLife3/train.csv', encoding='utf-8', index=False)\n",
    "df_train_elife.to_pickle('./eLife3/train.pkl')\n",
    "\n",
    "\n",
    "df_val_elife = pd.DataFrame.from_dict(elife_val)\n",
    "\n",
    "df_val_elife = df_val_elife[['article', 'lay_summary']]\n",
    "\n",
    "print(len(df_val_elife))\n",
    "\n",
    "df_val_elife.to_csv('./eLife3/val.csv', encoding='utf-8', index=False)\n",
    "df_val_elife.to_pickle('./eLife3/val.pkl')"
   ]
  },
  {
   "cell_type": "code",
   "execution_count": 11,
   "id": "14d8861b",
   "metadata": {},
   "outputs": [
    {
     "data": {
      "text/html": [
       "<div>\n",
       "<style scoped>\n",
       "    .dataframe tbody tr th:only-of-type {\n",
       "        vertical-align: middle;\n",
       "    }\n",
       "\n",
       "    .dataframe tbody tr th {\n",
       "        vertical-align: top;\n",
       "    }\n",
       "\n",
       "    .dataframe thead th {\n",
       "        text-align: right;\n",
       "    }\n",
       "</style>\n",
       "<table border=\"1\" class=\"dataframe\">\n",
       "  <thead>\n",
       "    <tr style=\"text-align: right;\">\n",
       "      <th></th>\n",
       "      <th>article</th>\n",
       "      <th>lay_summary</th>\n",
       "    </tr>\n",
       "  </thead>\n",
       "  <tbody>\n",
       "    <tr>\n",
       "      <th>0</th>\n",
       "      <td>cell-fate reprograming is at the heart of deve...</td>\n",
       "      <td>the dna in genes encodes the basic information...</td>\n",
       "    </tr>\n",
       "    <tr>\n",
       "      <th>1</th>\n",
       "      <td>klebsiella pneumoniae is a respiratory , blood...</td>\n",
       "      <td>klebsiella pneumoniae is a type of bacteria th...</td>\n",
       "    </tr>\n",
       "    <tr>\n",
       "      <th>2</th>\n",
       "      <td>plasmodium vivax relapse infections occur foll...</td>\n",
       "      <td>malaria is one of the world's most deadly infe...</td>\n",
       "    </tr>\n",
       "    <tr>\n",
       "      <th>3</th>\n",
       "      <td>when 2 mha of amazonian forests are disturbed ...</td>\n",
       "      <td>the amazon rainforest in south america is the ...</td>\n",
       "    </tr>\n",
       "    <tr>\n",
       "      <th>4</th>\n",
       "      <td>neurosphere formation is commonly used as a su...</td>\n",
       "      <td>neurons that arise in the adult nervous system...</td>\n",
       "    </tr>\n",
       "  </tbody>\n",
       "</table>\n",
       "</div>"
      ],
      "text/plain": [
       "                                             article  \\\n",
       "0  cell-fate reprograming is at the heart of deve...   \n",
       "1  klebsiella pneumoniae is a respiratory , blood...   \n",
       "2  plasmodium vivax relapse infections occur foll...   \n",
       "3  when 2 mha of amazonian forests are disturbed ...   \n",
       "4  neurosphere formation is commonly used as a su...   \n",
       "\n",
       "                                         lay_summary  \n",
       "0  the dna in genes encodes the basic information...  \n",
       "1  klebsiella pneumoniae is a type of bacteria th...  \n",
       "2  malaria is one of the world's most deadly infe...  \n",
       "3  the amazon rainforest in south america is the ...  \n",
       "4  neurons that arise in the adult nervous system...  "
      ]
     },
     "execution_count": 11,
     "metadata": {},
     "output_type": "execute_result"
    }
   ],
   "source": [
    "df_val_elife.head(5)"
   ]
  },
  {
   "cell_type": "markdown",
   "id": "dea6d702",
   "metadata": {},
   "source": [
    "## TEST"
   ]
  },
  {
   "cell_type": "code",
   "execution_count": 3,
   "id": "5882eaad",
   "metadata": {},
   "outputs": [
    {
     "data": {
      "application/vnd.jupyter.widget-view+json": {
       "model_id": "8c793e8ee14e4b31b5fd1a995f024008",
       "version_major": 2,
       "version_minor": 0
      },
      "text/plain": [
       "0it [00:00, ?it/s]"
      ]
     },
     "metadata": {},
     "output_type": "display_data"
    }
   ],
   "source": [
    "plos_test = []\n",
    "\n",
    "with open('./raw/test/PLOS_test.jsonl', encoding='utf-8') as f:\n",
    "    for line in tqdm(f):\n",
    "        tmp = json.loads(line)\n",
    "        tmp['article'] = tmp['article'].replace(\"&nbsp\", \"\").replace(\"\\n\", \" \").lower()\n",
    "        tmp['lay_summary'] = 'A'\n",
    "        tmp['article'] = get_sub(tmp['article'])\n",
    "        plos_test.append(tmp)"
   ]
  },
  {
   "cell_type": "code",
   "execution_count": 4,
   "id": "ca7c7ae4",
   "metadata": {},
   "outputs": [],
   "source": [
    "df_test_plos = pd.DataFrame.from_dict(plos_test)\n",
    "\n",
    "df_test_plos = df_test_plos[['article', 'lay_summary']]\n",
    "\n",
    "df_test_plos.to_csv('./PLOS2/test.csv', encoding='utf-8', index=False)\n",
    "df_test_plos.to_pickle('./PLOS2/test.pkl')"
   ]
  },
  {
   "cell_type": "code",
   "execution_count": 9,
   "id": "ef35eff8",
   "metadata": {},
   "outputs": [
    {
     "data": {
      "application/vnd.jupyter.widget-view+json": {
       "model_id": "876a22fb41bc440dbb84be3dfbfeccfd",
       "version_major": 2,
       "version_minor": 0
      },
      "text/plain": [
       "0it [00:00, ?it/s]"
      ]
     },
     "metadata": {},
     "output_type": "display_data"
    }
   ],
   "source": [
    "elife_test = []\n",
    "\n",
    "with open('./raw/test/eLife_test.jsonl', encoding='utf-8') as f:\n",
    "    for line in tqdm(f):\n",
    "        tmp = json.loads(line)\n",
    "        tmp['article'] = tmp['article'].replace(\"&nbsp\", \"\").lower()\n",
    "        tmp['lay_summary'] = 'B'\n",
    "        tmp['article'] = get_sub(tmp['article'])\n",
    "        elife_test.append(tmp)\n",
    "        \n",
    "        \n",
    "df_test_elife = pd.DataFrame.from_dict(elife_test)\n",
    "\n",
    "df_test_elife = df_test_elife[['article', 'lay_summary']]\n",
    "\n",
    "\n",
    "df_test_elife.to_csv('./eLife3/test.csv', encoding='utf-8', index=False)\n",
    "df_test_elife.to_pickle('./eLife3/test.pkl')"
   ]
  },
  {
   "cell_type": "code",
   "execution_count": null,
   "id": "a2f4f8c7",
   "metadata": {},
   "outputs": [],
   "source": [
    "import pickle\n",
    "\n",
    "\n",
    "with open('../output/plos.pkl', 'rb') as f:\n",
    "    data = pickle.load(f)\n",
    "    \n",
    "print(len(data))\n",
    "\n",
    "with open('../output/plos.txt', 'w', encoding='utf-8') as f:\n",
    "    for dt in data:\n",
    "        dt = dt.replace('\\n', ' ')\n",
    "        f.writelines(f\"{dt}\\n\")"
   ]
  },
  {
   "cell_type": "code",
   "execution_count": null,
   "id": "b6b34bb0",
   "metadata": {},
   "outputs": [],
   "source": [
    "with open('../output/elife.pkl', 'rb') as f:\n",
    "    data = pickle.load(f)\n",
    "    \n",
    "print(len(data))\n",
    "\n",
    "with open('../output/elife.txt', 'w', encoding='utf-8') as f:\n",
    "    for dt in data:\n",
    "        dt = dt.replace('\\n', ' ')\n",
    "        f.writelines(f\"{dt}\\n\")"
   ]
  }
 ],
 "metadata": {
  "kernelspec": {
   "display_name": "phucpx",
   "language": "python",
   "name": "phucpx"
  },
  "language_info": {
   "codemirror_mode": {
    "name": "ipython",
    "version": 3
   },
   "file_extension": ".py",
   "mimetype": "text/x-python",
   "name": "python",
   "nbconvert_exporter": "python",
   "pygments_lexer": "ipython3",
   "version": "3.7.1"
  }
 },
 "nbformat": 4,
 "nbformat_minor": 5
}
